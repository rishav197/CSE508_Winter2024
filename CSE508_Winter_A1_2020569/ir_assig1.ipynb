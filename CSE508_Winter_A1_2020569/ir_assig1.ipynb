{
  "nbformat": 4,
  "nbformat_minor": 0,
  "metadata": {
    "colab": {
      "provenance": [],
      "authorship_tag": "ABX9TyPvRY1yI0g0aAYeXEEAPaD+",
      "include_colab_link": true
    },
    "kernelspec": {
      "name": "python3",
      "display_name": "Python 3"
    },
    "language_info": {
      "name": "python"
    }
  },
  "cells": [
    {
      "cell_type": "markdown",
      "metadata": {
        "id": "view-in-github",
        "colab_type": "text"
      },
      "source": [
        "<a href=\"https://colab.research.google.com/github/rishav197/CSE508_Winter2024/blob/main/CSE508_Winter_A1_2020569/ir_assig1.ipynb\" target=\"_parent\"><img src=\"https://colab.research.google.com/assets/colab-badge.svg\" alt=\"Open In Colab\"/></a>"
      ]
    },
    {
      "cell_type": "code",
      "execution_count": null,
      "metadata": {
        "id": "X5Ob5xsgqNwt",
        "colab": {
          "base_uri": "https://localhost:8080/"
        },
        "outputId": "316c363e-683d-4616-ba50-6538137554d6"
      },
      "outputs": [
        {
          "output_type": "stream",
          "name": "stdout",
          "text": [
            "Drive already mounted at /content/drive; to attempt to forcibly remount, call drive.mount(\"/content/drive\", force_remount=True).\n"
          ]
        }
      ],
      "source": [
        "from google.colab import drive\n",
        "drive.mount('/content/drive')"
      ]
    },
    {
      "cell_type": "markdown",
      "source": [
        "**Q1: Data Preprocessing**"
      ],
      "metadata": {
        "id": "Esz0sEiBEerL"
      }
    },
    {
      "cell_type": "code",
      "source": [
        "with open(\"/content/drive/MyDrive/text_files/file1.txt\") as f:\n",
        "  text = f.readlines()\n",
        "\n",
        "print(text)\n",
        "text=text[0]"
      ],
      "metadata": {
        "id": "czyJZMP_wkIa",
        "colab": {
          "base_uri": "https://localhost:8080/"
        },
        "outputId": "d2512090-83a7-4813-ceff-cf24204fc7a5"
      },
      "execution_count": null,
      "outputs": [
        {
          "output_type": "stream",
          "name": "stdout",
          "text": [
            "['Loving these vintage springs on my vintage strat. They have a good tension and great stability. If you are floating your bridge and want the most out of your springs than these are the way to go.']\n"
          ]
        }
      ]
    },
    {
      "cell_type": "code",
      "source": [
        "text"
      ],
      "metadata": {
        "id": "PSi6WaNbqPn1",
        "colab": {
          "base_uri": "https://localhost:8080/",
          "height": 71
        },
        "outputId": "1ce7c8d1-da62-493c-c62e-014c286427ae"
      },
      "execution_count": null,
      "outputs": [
        {
          "output_type": "execute_result",
          "data": {
            "text/plain": [
              "'Loving these vintage springs on my vintage strat. They have a good tension and great stability. If you are floating your bridge and want the most out of your springs than these are the way to go.'"
            ],
            "application/vnd.google.colaboratory.intrinsic+json": {
              "type": "string"
            }
          },
          "metadata": {},
          "execution_count": 182
        }
      ]
    },
    {
      "cell_type": "markdown",
      "source": [
        "Q1.1\n",
        "a) Lowercase the text"
      ],
      "metadata": {
        "id": "slVaOZHdOOTk"
      }
    },
    {
      "cell_type": "code",
      "source": [
        "def getLowercase(txt):\n",
        "  return txt.lower()\n"
      ],
      "metadata": {
        "id": "dpp4wEjVqPqw"
      },
      "execution_count": null,
      "outputs": []
    },
    {
      "cell_type": "code",
      "source": [
        "text = getLowercase(text)\n",
        "text"
      ],
      "metadata": {
        "id": "L0hRkKfSqPtg",
        "colab": {
          "base_uri": "https://localhost:8080/",
          "height": 71
        },
        "outputId": "808f0273-5724-4cd4-e1bc-53c6b5f75b48"
      },
      "execution_count": null,
      "outputs": [
        {
          "output_type": "execute_result",
          "data": {
            "text/plain": [
              "'loving these vintage springs on my vintage strat. they have a good tension and great stability. if you are floating your bridge and want the most out of your springs than these are the way to go.'"
            ],
            "application/vnd.google.colaboratory.intrinsic+json": {
              "type": "string"
            }
          },
          "metadata": {},
          "execution_count": 184
        }
      ]
    },
    {
      "cell_type": "code",
      "source": [
        "import nltk\n",
        "\n",
        "nltk.download('punkt')\n",
        "nltk.download('stopwords')"
      ],
      "metadata": {
        "id": "d5Nscm_VqPxG",
        "colab": {
          "base_uri": "https://localhost:8080/"
        },
        "outputId": "c7ff7cab-52a9-45b0-e23d-9f09d66d3fd9"
      },
      "execution_count": null,
      "outputs": [
        {
          "output_type": "stream",
          "name": "stderr",
          "text": [
            "[nltk_data] Downloading package punkt to /root/nltk_data...\n",
            "[nltk_data]   Package punkt is already up-to-date!\n",
            "[nltk_data] Downloading package stopwords to /root/nltk_data...\n",
            "[nltk_data]   Package stopwords is already up-to-date!\n"
          ]
        },
        {
          "output_type": "execute_result",
          "data": {
            "text/plain": [
              "True"
            ]
          },
          "metadata": {},
          "execution_count": 185
        }
      ]
    },
    {
      "cell_type": "markdown",
      "source": [
        "b) Perform tokenization"
      ],
      "metadata": {
        "id": "r40A9jZgSHos"
      }
    },
    {
      "cell_type": "code",
      "source": [
        "def get_tokens(txt):\n",
        "  from nltk.tokenize import word_tokenize\n",
        "\n",
        "  return word_tokenize(txt)"
      ],
      "metadata": {
        "id": "dau0PAv6SGHY"
      },
      "execution_count": null,
      "outputs": []
    },
    {
      "cell_type": "code",
      "source": [
        "text_tokens = get_tokens(text)\n",
        "text_tokens"
      ],
      "metadata": {
        "id": "L3jQ8SMkRxll",
        "colab": {
          "base_uri": "https://localhost:8080/"
        },
        "outputId": "36dad83a-b4cb-4d62-9d45-27471bfddcd8"
      },
      "execution_count": null,
      "outputs": [
        {
          "output_type": "execute_result",
          "data": {
            "text/plain": [
              "['loving',\n",
              " 'these',\n",
              " 'vintage',\n",
              " 'springs',\n",
              " 'on',\n",
              " 'my',\n",
              " 'vintage',\n",
              " 'strat',\n",
              " '.',\n",
              " 'they',\n",
              " 'have',\n",
              " 'a',\n",
              " 'good',\n",
              " 'tension',\n",
              " 'and',\n",
              " 'great',\n",
              " 'stability',\n",
              " '.',\n",
              " 'if',\n",
              " 'you',\n",
              " 'are',\n",
              " 'floating',\n",
              " 'your',\n",
              " 'bridge',\n",
              " 'and',\n",
              " 'want',\n",
              " 'the',\n",
              " 'most',\n",
              " 'out',\n",
              " 'of',\n",
              " 'your',\n",
              " 'springs',\n",
              " 'than',\n",
              " 'these',\n",
              " 'are',\n",
              " 'the',\n",
              " 'way',\n",
              " 'to',\n",
              " 'go',\n",
              " '.']"
            ]
          },
          "metadata": {},
          "execution_count": 187
        }
      ]
    },
    {
      "cell_type": "markdown",
      "source": [
        "c) Remove stopwords"
      ],
      "metadata": {
        "id": "VqX1JAoFRvQA"
      }
    },
    {
      "cell_type": "code",
      "source": [
        "from nltk.corpus import stopwords"
      ],
      "metadata": {
        "id": "0bEttnfpbsWs"
      },
      "execution_count": null,
      "outputs": []
    },
    {
      "cell_type": "code",
      "source": [
        "def remove_stop_words(text_tokens):\n",
        "  stop_words = set(stopwords.words('english'))\n",
        "\n",
        "  processed_tokens = [token for token in text_tokens if token not in stop_words]\n",
        "  return processed_tokens"
      ],
      "metadata": {
        "id": "JvYcBvxHE92L"
      },
      "execution_count": null,
      "outputs": []
    },
    {
      "cell_type": "code",
      "source": [
        "processed_tokens = remove_stop_words(text_tokens)\n",
        "print(processed_tokens)"
      ],
      "metadata": {
        "id": "1s5_xLfbFRT1",
        "colab": {
          "base_uri": "https://localhost:8080/"
        },
        "outputId": "b8c19f03-1ef9-4fca-eef9-33d8bf721c2a"
      },
      "execution_count": null,
      "outputs": [
        {
          "output_type": "stream",
          "name": "stdout",
          "text": [
            "['loving', 'vintage', 'springs', 'vintage', 'strat', '.', 'good', 'tension', 'great', 'stability', '.', 'floating', 'bridge', 'want', 'springs', 'way', 'go', '.']\n"
          ]
        }
      ]
    },
    {
      "cell_type": "markdown",
      "source": [
        "d) Remove punctuations"
      ],
      "metadata": {
        "id": "ohLjKAQ5Swn2"
      }
    },
    {
      "cell_type": "code",
      "source": [
        "from string import punctuation"
      ],
      "metadata": {
        "id": "gVFgWwVgGUXf"
      },
      "execution_count": null,
      "outputs": []
    },
    {
      "cell_type": "code",
      "source": [
        "def remove_punctuation(text_tokens):\n",
        "  processed_tokens = [token for token in text_tokens if token not in punctuation]\n",
        "  return processed_tokens"
      ],
      "metadata": {
        "id": "ysnSDuFSFyXB"
      },
      "execution_count": null,
      "outputs": []
    },
    {
      "cell_type": "code",
      "source": [
        "processed_tokens = remove_punctuation(processed_tokens)\n",
        "print(processed_tokens)"
      ],
      "metadata": {
        "id": "neUFrRPEHFMU",
        "colab": {
          "base_uri": "https://localhost:8080/"
        },
        "outputId": "98175879-d6e7-490f-b05a-b8426162f343"
      },
      "execution_count": null,
      "outputs": [
        {
          "output_type": "stream",
          "name": "stdout",
          "text": [
            "['loving', 'vintage', 'springs', 'vintage', 'strat', 'good', 'tension', 'great', 'stability', 'floating', 'bridge', 'want', 'springs', 'way', 'go']\n"
          ]
        }
      ]
    },
    {
      "cell_type": "markdown",
      "source": [
        "e) Remove blank space tokens"
      ],
      "metadata": {
        "id": "ni4M2Opgc0m5"
      }
    },
    {
      "cell_type": "code",
      "source": [
        "def remove_blank_space(text_tokens):\n",
        "  processed_tokens = [token for token in text_tokens if token.strip()]\n",
        "  return processed_tokens"
      ],
      "metadata": {
        "id": "QdAbd_hfGYHQ"
      },
      "execution_count": null,
      "outputs": []
    },
    {
      "cell_type": "code",
      "source": [
        "processed_tokens = remove_blank_space(processed_tokens)\n",
        "print(processed_tokens)"
      ],
      "metadata": {
        "id": "Cas38gY5G0M0",
        "colab": {
          "base_uri": "https://localhost:8080/"
        },
        "outputId": "32bde79d-ffc9-46e7-e780-f9b63fc4b781"
      },
      "execution_count": null,
      "outputs": [
        {
          "output_type": "stream",
          "name": "stdout",
          "text": [
            "['loving', 'vintage', 'springs', 'vintage', 'strat', 'good', 'tension', 'great', 'stability', 'floating', 'bridge', 'want', 'springs', 'way', 'go']\n"
          ]
        }
      ]
    },
    {
      "cell_type": "code",
      "source": [
        "# \" \".join(processed_tokens)"
      ],
      "metadata": {
        "id": "_SCO-L2Sd2JK"
      },
      "execution_count": null,
      "outputs": []
    },
    {
      "cell_type": "markdown",
      "source": [
        "**Q1.2**"
      ],
      "metadata": {
        "id": "6ndblUqGfexn"
      }
    },
    {
      "cell_type": "code",
      "source": [
        "import os\n",
        "print(os.getcwd())"
      ],
      "metadata": {
        "id": "8jt7Hx0wP7_m",
        "colab": {
          "base_uri": "https://localhost:8080/"
        },
        "outputId": "03db7add-4b9b-46f3-86c3-46f2d1bc7312"
      },
      "execution_count": null,
      "outputs": [
        {
          "output_type": "stream",
          "name": "stdout",
          "text": [
            "/content\n"
          ]
        }
      ]
    },
    {
      "cell_type": "code",
      "source": [
        "path = \"/content/drive/MyDrive/text_files\"\n",
        "all_files = os.listdir(\"/content/drive/MyDrive/text_files\")[:5]\n",
        "all_files"
      ],
      "metadata": {
        "id": "Kx1ZVm2ONMXW",
        "colab": {
          "base_uri": "https://localhost:8080/"
        },
        "outputId": "7b78f46c-82d8-4825-ae90-21585ab92be8"
      },
      "execution_count": null,
      "outputs": [
        {
          "output_type": "execute_result",
          "data": {
            "text/plain": [
              "['file890.txt', 'file225.txt', 'file903.txt', 'file902.txt', 'file199.txt']"
            ]
          },
          "metadata": {},
          "execution_count": 198
        }
      ]
    },
    {
      "cell_type": "code",
      "source": [
        "os.path.join(\"The\", \"Rishav\")\n"
      ],
      "metadata": {
        "id": "I7YYaHueS5OI",
        "colab": {
          "base_uri": "https://localhost:8080/",
          "height": 36
        },
        "outputId": "eb490acb-1d95-4462-bc57-893074833468"
      },
      "execution_count": null,
      "outputs": [
        {
          "output_type": "execute_result",
          "data": {
            "text/plain": [
              "'The/Rishav'"
            ],
            "application/vnd.google.colaboratory.intrinsic+json": {
              "type": "string"
            }
          },
          "metadata": {},
          "execution_count": 199
        }
      ]
    },
    {
      "cell_type": "code",
      "source": [
        "text_files = []\n",
        "\n",
        "for file in all_files:\n",
        "  with open(os.path.join(path,file)) as f:\n",
        "    text=f.readlines()\n",
        "    text = [txt.replace(\"\\n\", \"\") for txt in text]\n",
        "    text_files.append(text)\n",
        "\n",
        "print(len(text_files), text_files)"
      ],
      "metadata": {
        "id": "MeG0gK4tNMT-",
        "colab": {
          "base_uri": "https://localhost:8080/"
        },
        "outputId": "dda15d3a-d4a8-44d6-9f11-3dcd1996ca3a"
      },
      "execution_count": null,
      "outputs": [
        {
          "output_type": "stream",
          "name": "stdout",
          "text": [
            "5 [[\"My 3rd Joyo Pedal, I'm falling in love with that company, solid great sounding pedals for a fraction of other brands.\", 'Be advised, the effect of this pedal is very subtle... I use it with my mustang V, which already models other amps, this pedal just makes it sound way more realistic and adds some dynamics to your playing.', ' Totally worth it for anybody that wants to improve their tone... You have to have a good ear though.', \"I've read some reviews of people hooking this pedal before their amp input... since this pedal has it's own pre amp, this way of hooking it up will produce some noise.\", ' Connect it to your FX send return.', \"I also own the American sound .... both great... depending on my mood I play them both equally... You just can't go wrong with Joyo\"], ['The cover is very beautiful, mainly the interior. One con I find is that it is too heavy and uncomfortable to transport.', 'The main reason why I rate it with 1 stars is that the first week of use (very careful) one of the hinges broke. I can not find another explanation than poor product quality'], [\"This guitar is perfect in every way! It's so easy to play and sounds fantastic! Perfectly balanced with zero neck dive. The bomb inlays just look cool! I definitely plan on buying more Hardluck Kings guitars!\"], ['Beautiful, well-made strap. Matches my guitar nicely. Perfect.'], ['Amazing and highly different Wah from ibanez,This is the WAH YA WANT!!,too many reasons!,Just check it out!!!']]\n"
          ]
        }
      ]
    },
    {
      "cell_type": "markdown",
      "source": [
        "Before Text Processing"
      ],
      "metadata": {
        "id": "8h0rMLmrlEsR"
      }
    },
    {
      "cell_type": "code",
      "source": [
        "for idx in range(len(text_files)):\n",
        "  # print(idx)\n",
        "  print(idx+1, text_files[idx][0])"
      ],
      "metadata": {
        "id": "Kcwxjz1XPrYe",
        "colab": {
          "base_uri": "https://localhost:8080/"
        },
        "outputId": "67a686f1-de6c-45da-817b-9054e5b53316"
      },
      "execution_count": null,
      "outputs": [
        {
          "output_type": "stream",
          "name": "stdout",
          "text": [
            "1 My 3rd Joyo Pedal, I'm falling in love with that company, solid great sounding pedals for a fraction of other brands.\n",
            "2 The cover is very beautiful, mainly the interior. One con I find is that it is too heavy and uncomfortable to transport.\n",
            "3 This guitar is perfect in every way! It's so easy to play and sounds fantastic! Perfectly balanced with zero neck dive. The bomb inlays just look cool! I definitely plan on buying more Hardluck Kings guitars!\n",
            "4 Beautiful, well-made strap. Matches my guitar nicely. Perfect.\n",
            "5 Amazing and highly different Wah from ibanez,This is the WAH YA WANT!!,too many reasons!,Just check it out!!!\n"
          ]
        }
      ]
    },
    {
      "cell_type": "markdown",
      "source": [
        "After Text Processing"
      ],
      "metadata": {
        "id": "Odvxk7aVYHlm"
      }
    },
    {
      "cell_type": "code",
      "source": [
        "for idx in range(len(text_files)):\n",
        "  # print(idx)\n",
        "  # print(idx+1, text_files[idx][0])\n",
        "  #Operation1 : Lowercase the text\n",
        "  text=getLowercase(text_files[idx][0])\n",
        "\n",
        "  #Operation2 : Perform tokenization\n",
        "  text_tokens=get_tokens(text)\n",
        "\n",
        "  #Operation3 : Remove stop words\n",
        "  processed_tokens = remove_stop_words(text_tokens)\n",
        "\n",
        "  #Operation4 : Remove punctuations\n",
        "  processed_tokens = remove_punctuation(processed_tokens)\n",
        "\n",
        "  #Operation5 : Remove blank space tokens\n",
        "  processed_tokens = remove_blank_space(processed_tokens)\n",
        "\n",
        "  print(idx+1, processed_tokens)\n",
        "  # print(idx+1, \" \".join(processed_tokens))"
      ],
      "metadata": {
        "id": "UUhVPSC6YHiP",
        "colab": {
          "base_uri": "https://localhost:8080/"
        },
        "outputId": "df23f47b-f190-41ec-851b-c3deb3cf7722"
      },
      "execution_count": null,
      "outputs": [
        {
          "output_type": "stream",
          "name": "stdout",
          "text": [
            "1 ['3rd', 'joyo', 'pedal', \"'m\", 'falling', 'love', 'company', 'solid', 'great', 'sounding', 'pedals', 'fraction', 'brands']\n",
            "2 ['cover', 'beautiful', 'mainly', 'interior', 'one', 'con', 'find', 'heavy', 'uncomfortable', 'transport']\n",
            "3 ['guitar', 'perfect', 'every', 'way', \"'s\", 'easy', 'play', 'sounds', 'fantastic', 'perfectly', 'balanced', 'zero', 'neck', 'dive', 'bomb', 'inlays', 'look', 'cool', 'definitely', 'plan', 'buying', 'hardluck', 'kings', 'guitars']\n",
            "4 ['beautiful', 'well-made', 'strap', 'matches', 'guitar', 'nicely', 'perfect']\n",
            "5 ['amazing', 'highly', 'different', 'wah', 'ibanez', 'wah', 'ya', 'want', 'many', 'reasons', 'check']\n"
          ]
        }
      ]
    },
    {
      "cell_type": "code",
      "source": [],
      "metadata": {
        "id": "aWGfmb08AqFI"
      },
      "execution_count": null,
      "outputs": []
    },
    {
      "cell_type": "markdown",
      "source": [
        "**Q2: Unigram Inverted Index and Boolean Queries**"
      ],
      "metadata": {
        "id": "SO2uTsd5YHcL"
      }
    },
    {
      "cell_type": "code",
      "source": [
        "import pickle"
      ],
      "metadata": {
        "id": "CST2IaPppvwL"
      },
      "execution_count": null,
      "outputs": []
    },
    {
      "cell_type": "code",
      "source": [
        "#For preprocessing text\n",
        "\n",
        "def preprocess_txt(text):\n",
        "  text=getLowercase(text)\n",
        "  text_tokens=get_tokens(text)\n",
        "  processed_tokens = remove_stop_words(text_tokens)\n",
        "  processed_tokens = remove_punctuation(processed_tokens)\n",
        "  processed_tokens = remove_blank_space(processed_tokens)\n",
        "\n",
        "  #finally, return the processed tokens\n",
        "  return processed_tokens"
      ],
      "metadata": {
        "id": "5vgCLATTAwl3"
      },
      "execution_count": null,
      "outputs": []
    },
    {
      "cell_type": "code",
      "source": [
        "def make_inverted_idx(docs):\n",
        "  inverted_idx = {}\n",
        "  for doc_id, doc_cont in enumerate(docs):\n",
        "    # print(doc_id, doc_cont)\n",
        "\n",
        "    processed_tokens = preprocess_txt(doc_cont)\n",
        "\n",
        "    for term in processed_tokens:\n",
        "      if term not in inverted_idx:\n",
        "        inverted_idx[term] = set()\n",
        "      inverted_idx[term].add(doc_id+1)\n",
        "\n",
        "  return inverted_idx\n",
        "\n",
        "\n",
        "def execute_qry(inverted_idx, query):\n",
        "  query_terms = preprocess_txt(query)\n",
        "  result = None\n",
        "  operator = None\n",
        "\n",
        "  for term in query_terms:\n",
        "    if term == \"AND\":\n",
        "      operator = \"AND\"\n",
        "    elif term == \"OR\":\n",
        "      operator = \"OR\"\n",
        "    elif term == \"NOT\":\n",
        "      operator = \"NOT\"\n",
        "    else:\n",
        "      term_rslt = inverted_idx.get(term, set())\n",
        "      if result is None:\n",
        "        result = term_rslt.copy()\n",
        "      else:\n",
        "        if operator==\"AND\":\n",
        "          result=result.intersection(term_rslt)\n",
        "          print(operator, result)\n",
        "        elif operator==\"OR\":\n",
        "          result=result.union(term_rslt)\n",
        "          print(operator, result)\n",
        "        elif operator==\"NOT\":\n",
        "          result=result.difference(term_rslt)\n",
        "          print(operator, result)\n",
        "\n",
        "  return result"
      ],
      "metadata": {
        "id": "qlIk_7tJrOzM"
      },
      "execution_count": null,
      "outputs": []
    },
    {
      "cell_type": "code",
      "source": [
        "def save_idx(idx, file_name):\n",
        "  with open(file_name, \"wb\") as f:\n",
        "    pickle.dump(idx, f)\n",
        "\n",
        "\n",
        "def load_idx(file_name):\n",
        "  with open(file_name, \"rb\") as f:\n",
        "    loaded_idx = pickle.load(f)\n",
        "\n",
        "  return loaded_idx"
      ],
      "metadata": {
        "id": "2b3xLSldpZMP"
      },
      "execution_count": null,
      "outputs": []
    },
    {
      "cell_type": "code",
      "source": [
        "docs = []\n",
        "\n",
        "text_files = []\n",
        "\n",
        "for file in all_files:\n",
        "  with open(os.path.join(path,file)) as f:\n",
        "    text=f.readlines()\n",
        "    text = [txt.replace(\"\\n\", \"\") for txt in text]\n",
        "    text_files.append(text)\n",
        "\n",
        "# print(len(text_files), text_files)\n",
        "\n",
        "for idx in range(len(text_files)):\n",
        "  # print(idx)\n",
        "  print(idx+1, text_files[idx][0])\n",
        "  docs.append(text_files[idx][0])\n",
        "\n",
        "print(len(docs), \"Documents =\", docs)"
      ],
      "metadata": {
        "colab": {
          "base_uri": "https://localhost:8080/"
        },
        "id": "B-A6RnOEDYRY",
        "outputId": "85f4e3aa-c353-4d36-88f1-bb3e799d9ff5"
      },
      "execution_count": null,
      "outputs": [
        {
          "output_type": "stream",
          "name": "stdout",
          "text": [
            "1 My 3rd Joyo Pedal, I'm falling in love with that company, solid great sounding pedals for a fraction of other brands.\n",
            "2 The cover is very beautiful, mainly the interior. One con I find is that it is too heavy and uncomfortable to transport.\n",
            "3 This guitar is perfect in every way! It's so easy to play and sounds fantastic! Perfectly balanced with zero neck dive. The bomb inlays just look cool! I definitely plan on buying more Hardluck Kings guitars!\n",
            "4 Beautiful, well-made strap. Matches my guitar nicely. Perfect.\n",
            "5 Amazing and highly different Wah from ibanez,This is the WAH YA WANT!!,too many reasons!,Just check it out!!!\n",
            "5 Documents = [\"My 3rd Joyo Pedal, I'm falling in love with that company, solid great sounding pedals for a fraction of other brands.\", 'The cover is very beautiful, mainly the interior. One con I find is that it is too heavy and uncomfortable to transport.', \"This guitar is perfect in every way! It's so easy to play and sounds fantastic! Perfectly balanced with zero neck dive. The bomb inlays just look cool! I definitely plan on buying more Hardluck Kings guitars!\", 'Beautiful, well-made strap. Matches my guitar nicely. Perfect.', 'Amazing and highly different Wah from ibanez,This is the WAH YA WANT!!,too many reasons!,Just check it out!!!']\n"
          ]
        }
      ]
    },
    {
      "cell_type": "code",
      "source": [
        "# print(list(enumerate(documents)))\n",
        "\n",
        "print(docs)\n",
        "inverted_idx = make_inverted_idx(docs)\n",
        "print(inverted_idx)\n",
        "\n",
        "#Save inverted index\n",
        "save_idx(inverted_idx, \"inverted_idx.pkl\")\n",
        "\n",
        "#Load the saved inverted index\n",
        "load_inverted_idx = load_idx(\"/content/inverted_idx.pkl\")\n",
        "print(load_inverted_idx)"
      ],
      "metadata": {
        "colab": {
          "base_uri": "https://localhost:8080/"
        },
        "id": "6k7ff-kFr3lq",
        "outputId": "8a165981-8795-461f-bf3e-2dd68f992a64"
      },
      "execution_count": null,
      "outputs": [
        {
          "output_type": "stream",
          "name": "stdout",
          "text": [
            "[\"My 3rd Joyo Pedal, I'm falling in love with that company, solid great sounding pedals for a fraction of other brands.\", 'The cover is very beautiful, mainly the interior. One con I find is that it is too heavy and uncomfortable to transport.', \"This guitar is perfect in every way! It's so easy to play and sounds fantastic! Perfectly balanced with zero neck dive. The bomb inlays just look cool! I definitely plan on buying more Hardluck Kings guitars!\", 'Beautiful, well-made strap. Matches my guitar nicely. Perfect.', 'Amazing and highly different Wah from ibanez,This is the WAH YA WANT!!,too many reasons!,Just check it out!!!']\n",
            "{'3rd': {1}, 'joyo': {1}, 'pedal': {1}, \"'m\": {1}, 'falling': {1}, 'love': {1}, 'company': {1}, 'solid': {1}, 'great': {1}, 'sounding': {1}, 'pedals': {1}, 'fraction': {1}, 'brands': {1}, 'cover': {2}, 'beautiful': {2, 4}, 'mainly': {2}, 'interior': {2}, 'one': {2}, 'con': {2}, 'find': {2}, 'heavy': {2}, 'uncomfortable': {2}, 'transport': {2}, 'guitar': {3, 4}, 'perfect': {3, 4}, 'every': {3}, 'way': {3}, \"'s\": {3}, 'easy': {3}, 'play': {3}, 'sounds': {3}, 'fantastic': {3}, 'perfectly': {3}, 'balanced': {3}, 'zero': {3}, 'neck': {3}, 'dive': {3}, 'bomb': {3}, 'inlays': {3}, 'look': {3}, 'cool': {3}, 'definitely': {3}, 'plan': {3}, 'buying': {3}, 'hardluck': {3}, 'kings': {3}, 'guitars': {3}, 'well-made': {4}, 'strap': {4}, 'matches': {4}, 'nicely': {4}, 'amazing': {5}, 'highly': {5}, 'different': {5}, 'wah': {5}, 'ibanez': {5}, 'ya': {5}, 'want': {5}, 'many': {5}, 'reasons': {5}, 'check': {5}}\n",
            "{'3rd': {1}, 'joyo': {1}, 'pedal': {1}, \"'m\": {1}, 'falling': {1}, 'love': {1}, 'company': {1}, 'solid': {1}, 'great': {1}, 'sounding': {1}, 'pedals': {1}, 'fraction': {1}, 'brands': {1}, 'cover': {2}, 'beautiful': {2, 4}, 'mainly': {2}, 'interior': {2}, 'one': {2}, 'con': {2}, 'find': {2}, 'heavy': {2}, 'uncomfortable': {2}, 'transport': {2}, 'guitar': {3, 4}, 'perfect': {3, 4}, 'every': {3}, 'way': {3}, \"'s\": {3}, 'easy': {3}, 'play': {3}, 'sounds': {3}, 'fantastic': {3}, 'perfectly': {3}, 'balanced': {3}, 'zero': {3}, 'neck': {3}, 'dive': {3}, 'bomb': {3}, 'inlays': {3}, 'look': {3}, 'cool': {3}, 'definitely': {3}, 'plan': {3}, 'buying': {3}, 'hardluck': {3}, 'kings': {3}, 'guitars': {3}, 'well-made': {4}, 'strap': {4}, 'matches': {4}, 'nicely': {4}, 'amazing': {5}, 'highly': {5}, 'different': {5}, 'wah': {5}, 'ibanez': {5}, 'ya': {5}, 'want': {5}, 'many': {5}, 'reasons': {5}, 'check': {5}}\n"
          ]
        }
      ]
    },
    {
      "cell_type": "markdown",
      "source": [
        "Input/Output"
      ],
      "metadata": {
        "id": "NOOHjHylFMDU"
      }
    },
    {
      "cell_type": "code",
      "source": [
        "N = int(input(\"N = \")) #number of queries\n",
        "# print(N, type(N))\n",
        "\n",
        "queries = []\n",
        "operations = []\n",
        "for idx in range(N):\n",
        "  # print(idx)\n",
        "\n",
        "  #Taking a sequence as input\n",
        "  seq = input()\n",
        "  queries.append(list(preprocess_txt(seq)))\n",
        "  # queries.append(\" \".join(preprocess_txt(seq)))\n",
        "\n",
        "\n",
        "  #Taking Operations as input\n",
        "  lst_of_oprs = []\n",
        "  lstOfOperations = input().split(\",\")\n",
        "  # print(lstOfOperations)\n",
        "  for opr in lstOfOperations:\n",
        "    # print(opr)\n",
        "    if opr[0]==\" \":\n",
        "      opr = opr[1:]\n",
        "    lst_of_oprs.append(opr)\n",
        "  operations.append(lst_of_oprs)\n",
        "\n",
        "print(queries)\n",
        "print(operations)\n",
        "print()\n"
      ],
      "metadata": {
        "colab": {
          "base_uri": "https://localhost:8080/"
        },
        "id": "noYsNTxetYnN",
        "outputId": "f5ae3354-55b0-4e85-b686-df6a48cd0a55"
      },
      "execution_count": null,
      "outputs": [
        {
          "output_type": "stream",
          "name": "stdout",
          "text": [
            "N = 2\n",
            "Car bag in a canister\n",
            "OR, AND NOT\n",
            "Coffee brewing techniques in cookbook\n",
            "AND, OR NOT, OR\n",
            "[['car', 'bag', 'canister'], ['coffee', 'brewing', 'techniques', 'cookbook']]\n",
            "[['OR', 'AND NOT'], ['AND', 'OR NOT', 'OR']]\n",
            "\n"
          ]
        }
      ]
    },
    {
      "cell_type": "code",
      "source": [
        "for idx in range(len(queries)):\n",
        "  curr_qry = queries[idx] #current query\n",
        "  curr_oprs = operations[idx] #current operations\n",
        "  # print(curr_qry)\n",
        "  # print(curr_oprs)\n",
        "\n",
        "  common_lst = []\n",
        "  qry_pos=0\n",
        "  opr_pos=0\n",
        "  for i in range(len(curr_qry)+len(curr_oprs)):\n",
        "    # print(i)\n",
        "    if((i+1)%2!=0):\n",
        "      common_lst.append(curr_qry[qry_pos])\n",
        "      qry_pos+=1\n",
        "    else:\n",
        "      common_lst.append(curr_oprs[opr_pos])\n",
        "      opr_pos+=1\n",
        "\n",
        "  # print(\"commons list:\", common_lst)\n",
        "\n",
        "  queries[idx]=\" \".join(common_lst)\n",
        "\n",
        "\n",
        "print(\"Final: \")\n",
        "print(queries)"
      ],
      "metadata": {
        "colab": {
          "base_uri": "https://localhost:8080/"
        },
        "id": "Wqx0mUZQQT2e",
        "outputId": "c845f708-9678-4e56-c9bc-ae1936a82fcc"
      },
      "execution_count": null,
      "outputs": [
        {
          "output_type": "stream",
          "name": "stdout",
          "text": [
            "['car', 'bag', 'canister']\n",
            "['OR', 'AND NOT']\n",
            "commons list: ['car', 'OR', 'bag', 'AND NOT', 'canister']\n",
            "['coffee', 'brewing', 'techniques', 'cookbook']\n",
            "['AND', 'OR NOT', 'OR']\n",
            "commons list: ['coffee', 'AND', 'brewing', 'OR NOT', 'techniques', 'OR', 'cookbook']\n",
            "Final: \n",
            "['car OR bag AND NOT canister', 'coffee AND brewing OR NOT techniques OR cookbook']\n"
          ]
        }
      ]
    },
    {
      "cell_type": "markdown",
      "source": [
        "Executing Queries"
      ],
      "metadata": {
        "id": "fMAj9fR1JP8B"
      }
    },
    {
      "cell_type": "code",
      "source": [
        "for idx, query in enumerate(queries):\n",
        "    print(idx, query)\n",
        "    result = execute_qry(load_inverted_idx, query)\n",
        "    print(\"result =\", result)\n",
        "    print(\"Query {}: {}\".format(idx, query))\n",
        "\n",
        "    print(\"Number of documents retrieved for query {}: {}\".format(idx, len(result)))\n",
        "\n",
        "    print(\"Names of the documents retrieved for query {}: \".format(idx))\n",
        "    print()"
      ],
      "metadata": {
        "colab": {
          "base_uri": "https://localhost:8080/"
        },
        "id": "cq2fzix1w2wT",
        "outputId": "e6f67c1d-1298-4ad2-e224-b3fabb64b29d"
      },
      "execution_count": null,
      "outputs": [
        {
          "output_type": "stream",
          "name": "stdout",
          "text": [
            "0 car OR bag AND NOT canister\n",
            "result = set()\n",
            "Query 0: car OR bag AND NOT canister\n",
            "Number of documents retrieved for query 0: 0\n",
            "Names of the documents retrieved for query 0: file1.txt\n",
            "\n",
            "1 coffee AND brewing OR NOT techniques OR cookbook\n",
            "result = set()\n",
            "Query 1: coffee AND brewing OR NOT techniques OR cookbook\n",
            "Number of documents retrieved for query 1: 0\n",
            "Names of the documents retrieved for query 1: file1.txt\n",
            "\n"
          ]
        }
      ]
    },
    {
      "cell_type": "code",
      "source": [],
      "metadata": {
        "id": "Vif2TMzDsOjD"
      },
      "execution_count": null,
      "outputs": []
    },
    {
      "cell_type": "code",
      "source": [],
      "metadata": {
        "id": "TMBq6vcQsOeC"
      },
      "execution_count": null,
      "outputs": []
    },
    {
      "cell_type": "code",
      "source": [],
      "metadata": {
        "id": "lOJFKY6ZsbAo"
      },
      "execution_count": null,
      "outputs": []
    },
    {
      "cell_type": "code",
      "source": [],
      "metadata": {
        "id": "51ZVXgURsa9N"
      },
      "execution_count": null,
      "outputs": []
    }
  ]
}